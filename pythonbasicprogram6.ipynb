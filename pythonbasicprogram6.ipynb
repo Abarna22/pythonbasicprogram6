{
 "cells": [
  {
   "cell_type": "code",
   "execution_count": 6,
   "id": "cae857a3",
   "metadata": {},
   "outputs": [
    {
     "name": "stdout",
     "output_type": "stream",
     "text": [
      "0\n",
      "1\n",
      "1\n",
      "2\n",
      "3\n",
      "5\n",
      "8\n",
      "13\n",
      "21\n",
      "34\n"
     ]
    }
   ],
   "source": [
    "\"\"\"1. Write a Python Program to Display Fibonacci Sequence Using Recursion?\n",
    "Ans\"\"\"\n",
    "\n",
    "def fib_rec(n):\n",
    "    if n==0:\n",
    "        return 0\n",
    "    elif n==1:\n",
    "        return 1\n",
    "    else:\n",
    "        return (fib_rec(n-1)+fib_rec(n-2))\n",
    "for i in range(10):\n",
    "    print( fib_rec(i) )"
   ]
  },
  {
   "cell_type": "code",
   "execution_count": 10,
   "id": "5d3a045c",
   "metadata": {},
   "outputs": [
    {
     "name": "stdout",
     "output_type": "stream",
     "text": [
      "enter the number:5\n",
      "120\n"
     ]
    }
   ],
   "source": [
    "\"\"\"2. Write a Python Program to Find Factorial of Number Using Recursion?\n",
    "Ans\"\"\"\n",
    "\n",
    "def fact_rec(n):\n",
    "    if n==1:\n",
    "        return n\n",
    "    else:\n",
    "        return (n*fact_rec(n-1))\n",
    "    \n",
    "num=int(input(\"enter the number:\"))\n",
    "\n",
    "print((fact_rec(num)))"
   ]
  },
  {
   "cell_type": "code",
   "execution_count": 15,
   "id": "23a91294",
   "metadata": {},
   "outputs": [
    {
     "name": "stdout",
     "output_type": "stream",
     "text": [
      "enter the weight in kgs:65\n",
      "enter the height in centimeters:165\n",
      "Enter the age:25\n",
      "23.875114784205696\n",
      "healthy\n"
     ]
    }
   ],
   "source": [
    "\"\"\"3. Write a Python Program to calculate your Body Mass Index?\n",
    "Ans\"\"\"\n",
    "\n",
    "kg=int(input(\"enter the weight in kgs:\"))\n",
    "cm= int(input(\"enter the height in centimeters:\"))\n",
    "age=int(input(\"Enter the age:\"))\n",
    "m=cm/100\n",
    "bmi=kg/(m*m)\n",
    "print(bmi)\n",
    "if bmi >=25.0 and age >=18 and age<=65:\n",
    "    print(\"over weight \")\n",
    "elif bmi >=18.5 and bmi <=24.9 and age >=18 and age<=65:\n",
    "    print(\"healthy\")\n",
    "elif bmi<18.5 and age >=18 and age<=65:\n",
    "    print(\"underweight\")\n",
    "else:\n",
    "    print(\"none\")"
   ]
  },
  {
   "cell_type": "code",
   "execution_count": 17,
   "id": "e0b6ff7d",
   "metadata": {},
   "outputs": [
    {
     "name": "stdout",
     "output_type": "stream",
     "text": [
      "Enter the number to find log:5\n",
      "log of 5 is 1.6094379124341003\n"
     ]
    }
   ],
   "source": [
    "\"\"\"4. Write a Python Program to calculate the natural logarithm of any number?\n",
    "Ans\"\"\"\n",
    "import math\n",
    "num=int(input(\"Enter the number to find log:\"))\n",
    "log=math.log(num)\n",
    "print(\"log of {} is {}\".format(num,log) )"
   ]
  },
  {
   "cell_type": "code",
   "execution_count": 20,
   "id": "eceecd75",
   "metadata": {},
   "outputs": [
    {
     "name": "stdout",
     "output_type": "stream",
     "text": [
      "enter the number:3\n",
      "36\n"
     ]
    }
   ],
   "source": [
    "\"\"\"5. Write a Python Program for cube sum of first n natural numbers?\n",
    "Ans\"\"\"\n",
    "num=int(input(\"enter the number:\"))\n",
    "t=num\n",
    "count=0\n",
    "i=0\n",
    "while(count<num):\n",
    "    x=t*t*t\n",
    "    j=i+x\n",
    "    i=j\n",
    "    t-=1\n",
    "    count+=1\n",
    "    \n",
    "print(j)"
   ]
  },
  {
   "cell_type": "code",
   "execution_count": null,
   "id": "31db6886",
   "metadata": {},
   "outputs": [],
   "source": []
  }
 ],
 "metadata": {
  "kernelspec": {
   "display_name": "Python 3",
   "language": "python",
   "name": "python3"
  },
  "language_info": {
   "codemirror_mode": {
    "name": "ipython",
    "version": 3
   },
   "file_extension": ".py",
   "mimetype": "text/x-python",
   "name": "python",
   "nbconvert_exporter": "python",
   "pygments_lexer": "ipython3",
   "version": "3.8.8"
  }
 },
 "nbformat": 4,
 "nbformat_minor": 5
}
